{
 "cells": [
  {
   "cell_type": "code",
   "execution_count": 2,
   "id": "b62c5eee",
   "metadata": {},
   "outputs": [],
   "source": [
    "import random\n",
    "import string\n",
    "class shortURL:\n",
    "    \n",
    "    def __init__(self):\n",
    "        self.d=dict()\n",
    "\n",
    "\n",
    "    def getshortURL (self, longURL):\n",
    "    #length=random value in 6-10\n",
    "        l=random.randint(6,10)\n",
    "    \n",
    "    #generate random characters into a string of length l\n",
    "        chars = string.ascii_lowercase\n",
    "        a=''\n",
    "        shorturl=[]\n",
    "        for i in range (0,l):\n",
    "            a=random.choice(chars) #sampling with replacement\n",
    "            shorturl.append(a)\n",
    "        shorturl=\"\".join(shorturl)\n",
    "    \n",
    "    #to join the elements in the list\n",
    "    #go to w3 and search for \"join\" and \"split\"\n",
    "    #split-----> string to list\n",
    "    #join------> \n",
    "    \n",
    "    #check if this string is already present in dict d\n",
    "    \n",
    "        if shorturl in self.d:\n",
    "            return getshortURL(longURL)\n",
    "        else:\n",
    "            self.d[shorturl]=longURL\n",
    "        \n",
    "        r=\"https://www.antmanurl.com/\"+shorturl\n",
    "        return r\n",
    "\n",
    "    def getlongURL(self,shortURL):\n",
    "    #extract key from \n",
    "    \n",
    "        k=shortURL[26:]\n",
    "    \n",
    "        if k in self.d:\n",
    "            return d[k]\n",
    "        else:\n",
    "            return None\n",
    "    \n",
    "\n"
   ]
  },
  {
   "cell_type": "code",
   "execution_count": 3,
   "id": "7d3b8d41",
   "metadata": {},
   "outputs": [
    {
     "name": "stdout",
     "output_type": "stream",
     "text": [
      "dictionary for s object {'qxjvbq': 'https://www.google.com/maps/place/KEM+Hospital/@18.5180554,73.8536679,15z/data=!4m5!3m4!1s0x3bc2c067a2fd93e1:0x1d019a52420f9b1b!8m2!3d18.5199723!4d73.8669765'}\n"
     ]
    }
   ],
   "source": [
    "s=shortURL()\n",
    "s.getshortURL(\"https://www.google.com/maps/place/KEM+Hospital/@18.5180554,73.8536679,15z/data=!4m5!3m4!1s0x3bc2c067a2fd93e1:0x1d019a52420f9b1b!8m2!3d18.5199723!4d73.8669765\")\n",
    "print(\"dictionary for s object\", s.d)"
   ]
  },
  {
   "cell_type": "code",
   "execution_count": null,
   "id": "81bbc0b8",
   "metadata": {},
   "outputs": [],
   "source": []
  }
 ],
 "metadata": {
  "kernelspec": {
   "display_name": "Python 3 (ipykernel)",
   "language": "python",
   "name": "python3"
  },
  "language_info": {
   "codemirror_mode": {
    "name": "ipython",
    "version": 3
   },
   "file_extension": ".py",
   "mimetype": "text/x-python",
   "name": "python",
   "nbconvert_exporter": "python",
   "pygments_lexer": "ipython3",
   "version": "3.9.7"
  }
 },
 "nbformat": 4,
 "nbformat_minor": 5
}
